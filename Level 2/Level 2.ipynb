{
 "cells": [
  {
   "cell_type": "code",
   "execution_count": 1,
   "metadata": {},
   "outputs": [
    {
     "name": "stderr",
     "output_type": "stream",
     "text": [
      "Using TensorFlow backend.\n"
     ]
    }
   ],
   "source": [
    "import matplotlib as mlp\n",
    "import matplotlib.pyplot as plt\n",
    "import pandas as pd\n",
    "import numpy as np\n",
    "from sklearn.model_selection import train_test_split\n",
    "from keras.models import Sequential\n",
    "from keras.layers import Dense, Dropout, Flatten, Activation\n",
    "from keras.layers.convolutional import Conv2D, MaxPooling2D\n",
    "from keras.optimizers import Adam, rmsprop\n",
    "from keras.utils.np_utils import to_categorical\n",
    "import cv2\n",
    "import sys\n",
    "import os"
   ]
  },
  {
   "cell_type": "code",
   "execution_count": 2,
   "metadata": {},
   "outputs": [],
   "source": [
    "train_dir = \"D:/Learning/USF - Data Science Programming/Project Final/Level 2/train\"\n",
    "test_dir = \"D:/Learning/USF - Data Science Programming/Project Final/Level 2/test\"\n",
    "categories = [\"guide\",\"regulatory\",\"warning\"]"
   ]
  },
  {
   "cell_type": "code",
   "execution_count": 3,
   "metadata": {},
   "outputs": [],
   "source": [
    "from keras.preprocessing.image import ImageDataGenerator, array_to_img, img_to_array, load_img"
   ]
  },
  {
   "cell_type": "code",
   "execution_count": 4,
   "metadata": {},
   "outputs": [],
   "source": [
    "trainval_data = []\n",
    "IMG_SIZE = 64\n",
    "\n",
    "def create_trainval_data():\n",
    "    for category in categories:\n",
    "        path = os.path.join(train_dir, category)\n",
    "        class_num = categories.index(category)\n",
    "        for img in os.listdir(path):\n",
    "            img_array = cv2.imread(os.path.join(path,img), cv2.IMREAD_UNCHANGED)\n",
    "            img_array = cv2.cvtColor(img_array, cv2.COLOR_BGR2RGB)\n",
    "            new_img_array = cv2.resize(img_array, (IMG_SIZE, IMG_SIZE))\n",
    "            trainval_data.append([new_img_array, class_num])        "
   ]
  },
  {
   "cell_type": "code",
   "execution_count": 5,
   "metadata": {},
   "outputs": [],
   "source": [
    "create_trainval_data()"
   ]
  },
  {
   "cell_type": "code",
   "execution_count": 6,
   "metadata": {},
   "outputs": [],
   "source": [
    "test_data = []\n",
    "\n",
    "def create_test_data():\n",
    "    for category in categories:\n",
    "        path = os.path.join(test_dir, category)\n",
    "        class_num = categories.index(category)\n",
    "        for img in os.listdir(path):\n",
    "            img_array = cv2.imread(os.path.join(path,img), cv2.IMREAD_UNCHANGED)\n",
    "            img_array = cv2.cvtColor(img_array, cv2.COLOR_BGR2RGB)\n",
    "            new_img_array = cv2.resize(img_array, (IMG_SIZE, IMG_SIZE))\n",
    "            test_data.append([new_img_array, class_num])        "
   ]
  },
  {
   "cell_type": "code",
   "execution_count": 7,
   "metadata": {},
   "outputs": [],
   "source": [
    "create_test_data()"
   ]
  },
  {
   "cell_type": "code",
   "execution_count": 8,
   "metadata": {},
   "outputs": [],
   "source": [
    "import random\n",
    "random.seed(42)\n",
    "random.shuffle(trainval_data)"
   ]
  },
  {
   "cell_type": "code",
   "execution_count": 9,
   "metadata": {},
   "outputs": [],
   "source": [
    "X = []\n",
    "y = []\n",
    "\n",
    "X_test = []\n",
    "y_test = []"
   ]
  },
  {
   "cell_type": "code",
   "execution_count": 10,
   "metadata": {},
   "outputs": [],
   "source": [
    "for features, labels in trainval_data:\n",
    "    X.append(features)\n",
    "    y.append(labels)"
   ]
  },
  {
   "cell_type": "code",
   "execution_count": 11,
   "metadata": {},
   "outputs": [],
   "source": [
    "for features, labels in test_data:\n",
    "    X_test.append(features)\n",
    "    y_test.append(labels)"
   ]
  },
  {
   "cell_type": "code",
   "execution_count": 13,
   "metadata": {},
   "outputs": [],
   "source": [
    "X = np.array(X)\n",
    "y = np.array(y)\n",
    "X_test = np.array(X_test)\n",
    "y_test = np.array(y_test)"
   ]
  },
  {
   "cell_type": "code",
   "execution_count": 14,
   "metadata": {},
   "outputs": [
    {
     "name": "stdout",
     "output_type": "stream",
     "text": [
      "(154, 64, 64, 3)\n",
      "(154,)\n",
      "(30, 64, 64, 3)\n",
      "(30,)\n"
     ]
    }
   ],
   "source": [
    "print(X.shape)\n",
    "print(y.shape)\n",
    "print(X_test.shape)\n",
    "print(y_test.shape)"
   ]
  },
  {
   "cell_type": "code",
   "execution_count": 15,
   "metadata": {},
   "outputs": [],
   "source": [
    "X_train, X_valid, y_train, y_valid = train_test_split(X, y, test_size = 0.2)"
   ]
  },
  {
   "cell_type": "code",
   "execution_count": 17,
   "metadata": {},
   "outputs": [],
   "source": [
    "train_datagen = ImageDataGenerator(rotation_range = 40,\n",
    "                            width_shift_range = 0.2,\n",
    "                            height_shift_range = 0.2,\n",
    "                            rescale = 1. / 255,\n",
    "                            shear_range = 0.2,\n",
    "                            zoom_range = 0.2)\n",
    "\n",
    "validation_datagen = ImageDataGenerator(rescale = 1. / 255)\n",
    "\n",
    "test_datagen = ImageDataGenerator(rescale = 1. / 255)"
   ]
  },
  {
   "cell_type": "code",
   "execution_count": 18,
   "metadata": {},
   "outputs": [],
   "source": [
    "train_datagen.fit(X_train)\n",
    "validation_datagen.fit(X_valid)"
   ]
  },
  {
   "cell_type": "code",
   "execution_count": 19,
   "metadata": {},
   "outputs": [],
   "source": [
    "test_datagen.fit(X_train)"
   ]
  },
  {
   "cell_type": "code",
   "execution_count": 20,
   "metadata": {},
   "outputs": [],
   "source": [
    "y_train_categorical = to_categorical(y_train, 3)\n",
    "y_valid_categorical = to_categorical(y_valid, 3)\n",
    "y_test_categorical = to_categorical(y_test, 3)"
   ]
  },
  {
   "cell_type": "code",
   "execution_count": 22,
   "metadata": {},
   "outputs": [],
   "source": [
    "channels = 3\n",
    "train_img_size = len(X_train)\n",
    "batch_size = 64\n",
    "validation_img_size = len(X_valid)"
   ]
  },
  {
   "cell_type": "code",
   "execution_count": 23,
   "metadata": {},
   "outputs": [
    {
     "data": {
      "text/plain": [
       "(123, 64, 64, 3)"
      ]
     },
     "execution_count": 23,
     "metadata": {},
     "output_type": "execute_result"
    }
   ],
   "source": [
    "X_train.shape"
   ]
  },
  {
   "cell_type": "code",
   "execution_count": 26,
   "metadata": {},
   "outputs": [
    {
     "name": "stdout",
     "output_type": "stream",
     "text": [
      "Model: \"sequential_1\"\n",
      "_________________________________________________________________\n",
      "Layer (type)                 Output Shape              Param #   \n",
      "=================================================================\n",
      "conv2d_1 (Conv2D)            (None, 62, 62, 32)        896       \n",
      "_________________________________________________________________\n",
      "max_pooling2d_1 (MaxPooling2 (None, 31, 31, 32)        0         \n",
      "_________________________________________________________________\n",
      "conv2d_2 (Conv2D)            (None, 29, 29, 64)        18496     \n",
      "_________________________________________________________________\n",
      "max_pooling2d_2 (MaxPooling2 (None, 14, 14, 64)        0         \n",
      "_________________________________________________________________\n",
      "flatten_1 (Flatten)          (None, 12544)             0         \n",
      "_________________________________________________________________\n",
      "dense_1 (Dense)              (None, 64)                802880    \n",
      "_________________________________________________________________\n",
      "activation_1 (Activation)    (None, 64)                0         \n",
      "_________________________________________________________________\n",
      "dropout_1 (Dropout)          (None, 64)                0         \n",
      "_________________________________________________________________\n",
      "dense_2 (Dense)              (None, 3)                 195       \n",
      "_________________________________________________________________\n",
      "activation_2 (Activation)    (None, 3)                 0         \n",
      "=================================================================\n",
      "Total params: 822,467\n",
      "Trainable params: 822,467\n",
      "Non-trainable params: 0\n",
      "_________________________________________________________________\n"
     ]
    }
   ],
   "source": [
    "# model = Sequential()\n",
    "\n",
    "# model.add(Conv2D(32, (3,3), input_shape = (IMG_SIZE, IMG_SIZE, channels), activation = 'relu', data_format = 'channels_last'))\n",
    "# model.add(MaxPooling2D(pool_size=(2,2), strides=2))\n",
    "\n",
    "# model.add(Conv2D(64, (3,3), activation = 'relu'))\n",
    "# model.add(MaxPooling2D(pool_size=(2,2), strides=2))\n",
    "\n",
    "# model.add(Flatten())\n",
    "# model.add(Dense(64))\n",
    "# model.add(Activation('relu'))\n",
    "# model.add(Dropout(0.375))\n",
    "# model.add(Dense(3))\n",
    "# model.add(Activation('softmax'))\n",
    "          \n",
    "# model.compile(loss = 'categorical_crossentropy', optimizer = 'Adam', metrics = ['accuracy'])\n",
    "# model.summary()"
   ]
  },
  {
   "cell_type": "code",
   "execution_count": 27,
   "metadata": {},
   "outputs": [
    {
     "name": "stdout",
     "output_type": "stream",
     "text": [
      "Epoch 1/50\n",
      "4/4 [==============================] - 1s 161ms/step - loss: 1.0374 - accuracy: 0.4472 - val_loss: 0.7481 - val_accuracy: 0.5484\n",
      "Epoch 2/50\n",
      "4/4 [==============================] - 0s 96ms/step - loss: 0.6204 - accuracy: 0.7398 - val_loss: 0.4505 - val_accuracy: 0.8710\n",
      "Epoch 3/50\n",
      "4/4 [==============================] - 0s 104ms/step - loss: 0.4674 - accuracy: 0.7642 - val_loss: 0.3993 - val_accuracy: 0.8065\n",
      "Epoch 4/50\n",
      "4/4 [==============================] - 0s 100ms/step - loss: 0.4240 - accuracy: 0.8211 - val_loss: 0.2097 - val_accuracy: 0.9355\n",
      "Epoch 5/50\n",
      "4/4 [==============================] - 0s 103ms/step - loss: 0.3060 - accuracy: 0.8618 - val_loss: 0.3805 - val_accuracy: 0.8065\n",
      "Epoch 6/50\n",
      "4/4 [==============================] - 0s 108ms/step - loss: 0.2479 - accuracy: 0.8943 - val_loss: 0.1775 - val_accuracy: 0.9677\n",
      "Epoch 7/50\n",
      "4/4 [==============================] - 0s 104ms/step - loss: 0.3127 - accuracy: 0.8943 - val_loss: 0.3676 - val_accuracy: 0.8065\n",
      "Epoch 8/50\n",
      "4/4 [==============================] - 1s 127ms/step - loss: 0.2547 - accuracy: 0.8943 - val_loss: 0.1418 - val_accuracy: 0.9677\n",
      "Epoch 9/50\n",
      "4/4 [==============================] - 0s 98ms/step - loss: 0.2204 - accuracy: 0.9268 - val_loss: 0.2168 - val_accuracy: 0.9355\n",
      "Epoch 10/50\n",
      "4/4 [==============================] - 0s 105ms/step - loss: 0.1663 - accuracy: 0.9350 - val_loss: 0.1581 - val_accuracy: 0.9677\n",
      "Epoch 11/50\n",
      "4/4 [==============================] - 0s 118ms/step - loss: 0.1506 - accuracy: 0.9431 - val_loss: 0.1125 - val_accuracy: 0.9677\n",
      "Epoch 12/50\n",
      "4/4 [==============================] - 0s 110ms/step - loss: 0.1426 - accuracy: 0.9593 - val_loss: 0.0957 - val_accuracy: 0.9677\n",
      "Epoch 13/50\n",
      "4/4 [==============================] - 1s 131ms/step - loss: 0.1114 - accuracy: 0.9593 - val_loss: 0.1113 - val_accuracy: 0.9677\n",
      "Epoch 14/50\n",
      "4/4 [==============================] - 0s 102ms/step - loss: 0.1654 - accuracy: 0.9512 - val_loss: 0.0881 - val_accuracy: 0.9677\n",
      "Epoch 15/50\n",
      "4/4 [==============================] - 0s 100ms/step - loss: 0.1422 - accuracy: 0.9350 - val_loss: 0.0948 - val_accuracy: 0.9677\n",
      "Epoch 16/50\n",
      "4/4 [==============================] - 0s 104ms/step - loss: 0.0986 - accuracy: 0.9756 - val_loss: 0.1965 - val_accuracy: 0.9355\n",
      "Epoch 17/50\n",
      "4/4 [==============================] - 0s 103ms/step - loss: 0.0950 - accuracy: 0.9675 - val_loss: 0.1060 - val_accuracy: 0.9677\n",
      "Epoch 18/50\n",
      "4/4 [==============================] - 1s 126ms/step - loss: 0.0814 - accuracy: 0.9756 - val_loss: 0.1025 - val_accuracy: 0.9677\n",
      "Epoch 19/50\n",
      "4/4 [==============================] - 0s 110ms/step - loss: 0.0858 - accuracy: 0.9593 - val_loss: 0.0906 - val_accuracy: 0.9677\n",
      "Epoch 20/50\n",
      "4/4 [==============================] - 0s 121ms/step - loss: 0.1105 - accuracy: 0.9675 - val_loss: 0.1229 - val_accuracy: 0.9355\n",
      "Epoch 21/50\n",
      "4/4 [==============================] - 0s 116ms/step - loss: 0.0913 - accuracy: 0.9756 - val_loss: 0.0749 - val_accuracy: 0.9677\n",
      "Epoch 22/50\n",
      "4/4 [==============================] - 0s 110ms/step - loss: 0.0803 - accuracy: 0.9675 - val_loss: 0.0683 - val_accuracy: 0.9677\n",
      "Epoch 23/50\n",
      "4/4 [==============================] - 0s 108ms/step - loss: 0.0555 - accuracy: 0.9837 - val_loss: 0.0677 - val_accuracy: 0.9677\n",
      "Epoch 24/50\n",
      "4/4 [==============================] - 0s 104ms/step - loss: 0.0388 - accuracy: 0.9919 - val_loss: 0.0574 - val_accuracy: 0.9677\n",
      "Epoch 25/50\n",
      "4/4 [==============================] - 0s 107ms/step - loss: 0.0395 - accuracy: 0.9837 - val_loss: 0.0699 - val_accuracy: 0.9677\n",
      "Epoch 26/50\n",
      "4/4 [==============================] - 0s 108ms/step - loss: 0.0461 - accuracy: 0.9837 - val_loss: 0.0698 - val_accuracy: 0.9677\n",
      "Epoch 27/50\n",
      "4/4 [==============================] - 0s 119ms/step - loss: 0.0778 - accuracy: 0.9675 - val_loss: 0.0678 - val_accuracy: 0.9677\n",
      "Epoch 28/50\n",
      "4/4 [==============================] - 0s 104ms/step - loss: 0.0444 - accuracy: 0.9756 - val_loss: 0.0824 - val_accuracy: 0.9677\n",
      "Epoch 29/50\n",
      "4/4 [==============================] - 0s 108ms/step - loss: 0.0408 - accuracy: 0.9837 - val_loss: 0.0927 - val_accuracy: 0.9677\n",
      "Epoch 30/50\n",
      "4/4 [==============================] - 0s 110ms/step - loss: 0.0624 - accuracy: 0.9675 - val_loss: 0.0572 - val_accuracy: 0.9677\n",
      "Epoch 31/50\n",
      "4/4 [==============================] - 0s 102ms/step - loss: 0.0557 - accuracy: 0.9756 - val_loss: 0.0462 - val_accuracy: 1.0000\n",
      "Epoch 32/50\n",
      "4/4 [==============================] - 0s 105ms/step - loss: 0.1198 - accuracy: 0.9593 - val_loss: 0.0471 - val_accuracy: 0.9677\n",
      "Epoch 33/50\n",
      "4/4 [==============================] - 0s 104ms/step - loss: 0.0310 - accuracy: 0.9837 - val_loss: 0.0626 - val_accuracy: 0.9677\n",
      "Epoch 34/50\n",
      "4/4 [==============================] - 0s 115ms/step - loss: 0.0531 - accuracy: 0.9837 - val_loss: 0.0608 - val_accuracy: 0.9677\n",
      "Epoch 35/50\n",
      "4/4 [==============================] - 1s 134ms/step - loss: 0.0437 - accuracy: 0.9919 - val_loss: 0.0429 - val_accuracy: 0.9677\n",
      "Epoch 36/50\n",
      "4/4 [==============================] - 0s 101ms/step - loss: 0.0352 - accuracy: 1.0000 - val_loss: 0.0351 - val_accuracy: 0.9677\n",
      "Epoch 37/50\n",
      "4/4 [==============================] - 0s 105ms/step - loss: 0.0292 - accuracy: 1.0000 - val_loss: 0.0360 - val_accuracy: 0.9677\n",
      "Epoch 38/50\n",
      "4/4 [==============================] - 0s 104ms/step - loss: 0.0247 - accuracy: 1.0000 - val_loss: 0.0461 - val_accuracy: 0.9677\n",
      "Epoch 39/50\n",
      "4/4 [==============================] - 0s 100ms/step - loss: 0.0163 - accuracy: 1.0000 - val_loss: 0.0380 - val_accuracy: 0.9677\n",
      "Epoch 40/50\n",
      "4/4 [==============================] - 1s 125ms/step - loss: 0.0226 - accuracy: 0.9919 - val_loss: 0.0468 - val_accuracy: 0.9677\n",
      "Epoch 41/50\n",
      "4/4 [==============================] - 0s 97ms/step - loss: 0.0119 - accuracy: 1.0000 - val_loss: 0.0350 - val_accuracy: 0.9677\n",
      "Epoch 42/50\n",
      "4/4 [==============================] - 1s 126ms/step - loss: 0.0177 - accuracy: 0.9919 - val_loss: 0.0205 - val_accuracy: 1.0000\n",
      "Epoch 43/50\n",
      "4/4 [==============================] - 0s 92ms/step - loss: 0.0169 - accuracy: 0.9919 - val_loss: 0.0199 - val_accuracy: 1.0000\n",
      "Epoch 44/50\n",
      "4/4 [==============================] - 0s 106ms/step - loss: 0.0252 - accuracy: 0.9837 - val_loss: 0.0161 - val_accuracy: 1.0000\n",
      "Epoch 45/50\n",
      "4/4 [==============================] - 0s 111ms/step - loss: 0.0158 - accuracy: 1.0000 - val_loss: 0.0213 - val_accuracy: 1.0000\n",
      "Epoch 46/50\n",
      "4/4 [==============================] - 1s 130ms/step - loss: 0.0117 - accuracy: 1.0000 - val_loss: 0.0253 - val_accuracy: 1.0000\n",
      "Epoch 47/50\n",
      "4/4 [==============================] - 0s 111ms/step - loss: 0.0055 - accuracy: 1.0000 - val_loss: 0.0172 - val_accuracy: 1.0000\n",
      "Epoch 48/50\n",
      "4/4 [==============================] - 0s 108ms/step - loss: 0.0284 - accuracy: 0.9919 - val_loss: 0.0231 - val_accuracy: 1.0000\n",
      "Epoch 49/50\n",
      "4/4 [==============================] - 0s 124ms/step - loss: 0.0349 - accuracy: 0.9919 - val_loss: 0.0713 - val_accuracy: 0.9677\n",
      "Epoch 50/50\n",
      "4/4 [==============================] - 1s 128ms/step - loss: 0.0107 - accuracy: 1.0000 - val_loss: 0.0275 - val_accuracy: 0.9677\n"
     ]
    }
   ],
   "source": [
    "# history = model.fit(train_datagen.flow(X_train, y_train_categorical),\n",
    "#                               validation_data=validation_datagen.flow(X_valid, y_valid_categorical),\n",
    "#                                                                       epochs=50)"
   ]
  },
  {
   "cell_type": "code",
   "execution_count": 28,
   "metadata": {},
   "outputs": [
    {
     "data": {
      "image/png": "[encoded data removed]",
      "text/plain": [
       "<Figure size 432x288 with 1 Axes>"
      ]
     },
     "metadata": {
      "needs_background": "light"
     },
     "output_type": "display_data"
    }
   ],
   "source": [
    "plt.plot(history.history['accuracy'])\n",
    "plt.plot(history.history['val_accuracy'])\n",
    "plt.title('Model accuracy')\n",
    "plt.ylabel('Accuracy')\n",
    "plt.xlabel('Epoch')\n",
    "plt.legend(['Train', 'Validation'], loc='lower right')\n",
    "plt.show()"
   ]
  },
  {
   "cell_type": "code",
   "execution_count": 29,
   "metadata": {},
   "outputs": [],
   "source": [
    "# model.save('latestmodell2.h5')"
   ]
  },
  {
   "cell_type": "code",
   "execution_count": 24,
   "metadata": {},
   "outputs": [],
   "source": [
    "from keras.models import load_model\n",
    "\n",
    "model = load_model('latestmodell2.h5')"
   ]
  },
  {
   "cell_type": "code",
   "execution_count": 25,
   "metadata": {},
   "outputs": [
    {
     "name": "stdout",
     "output_type": "stream",
     "text": [
      "\r",
      "30/30 [==============================] - 0s 6ms/step\n"
     ]
    }
   ],
   "source": [
    "score = model.evaluate(X_test, y_test_categorical)"
   ]
  },
  {
   "cell_type": "code",
   "execution_count": 26,
   "metadata": {
    "scrolled": true
   },
   "outputs": [
    {
     "data": {
      "text/plain": [
       "[31.50433921813965, 0.9333333373069763]"
      ]
     },
     "execution_count": 26,
     "metadata": {},
     "output_type": "execute_result"
    }
   ],
   "source": [
    "score"
   ]
  },
  {
   "cell_type": "code",
   "execution_count": 29,
   "metadata": {},
   "outputs": [
    {
     "name": "stdout",
     "output_type": "stream",
     "text": [
      "Images with GUIDE SIGNS (eg. direction markers) are labelled as class  0\n",
      "Images with REGULATORY SIGNS (eg. stop, yield, do not enter) are labelled as class  1\n",
      "Images with WARNING SIGNS (eg. bump ahead, signal ahead) are labelled as class  2\n"
     ]
    }
   ],
   "source": [
    "print('Images with GUIDE SIGNS (eg. direction markers) are labelled as class ', categories.index('guide'))\n",
    "print('Images with REGULATORY SIGNS (eg. stop, yield, do not enter) are labelled as class ', categories.index('regulatory'))\n",
    "print('Images with WARNING SIGNS (eg. bump ahead, signal ahead) are labelled as class ', categories.index('warning'))"
   ]
  },
  {
   "cell_type": "code",
   "execution_count": 35,
   "metadata": {},
   "outputs": [
    {
     "name": "stdout",
     "output_type": "stream",
     "text": [
      "The random image label is  16\n"
     ]
    },
    {
     "data": {
      "image/png": "[encoded data removed]",
      "text/plain": [
       "<Figure size 432x288 with 1 Axes>"
      ]
     },
     "metadata": {
      "needs_background": "light"
     },
     "output_type": "display_data"
    },
    {
     "name": "stdout",
     "output_type": "stream",
     "text": [
      "Predicted Class [1]\n"
     ]
    }
   ],
   "source": [
    "random_img = random.randint(0,29)\n",
    "print(\"The random image label is \", random_img)\n",
    "plt.imshow(X_test[random_img])\n",
    "plt.show()\n",
    "print('Predicted Class ' + str\n",
    "         (model.predict_classes(X_test[random_img].reshape(1,64,64,3))))"
   ]
  },
  {
   "cell_type": "code",
   "execution_count": 27,
   "metadata": {},
   "outputs": [],
   "source": [
    "y_pred = model.predict(X_test)"
   ]
  },
  {
   "cell_type": "code",
   "execution_count": 31,
   "metadata": {},
   "outputs": [],
   "source": [
    "results_class = np.argmax(y_pred, axis=1, out=None)"
   ]
  },
  {
   "cell_type": "code",
   "execution_count": 32,
   "metadata": {},
   "outputs": [
    {
     "name": "stdout",
     "output_type": "stream",
     "text": [
      "[[ 8  0  0]\n",
      " [ 0 10  0]\n",
      " [ 2  0 10]]\n"
     ]
    }
   ],
   "source": [
    "from sklearn.metrics import confusion_matrix\n",
    "\n",
    "print(confusion_matrix(results_class, y_test))"
   ]
  },
  {
   "cell_type": "code",
   "execution_count": 33,
   "metadata": {},
   "outputs": [
    {
     "name": "stdout",
     "output_type": "stream",
     "text": [
      "              precision    recall  f1-score   support\n",
      "\n",
      "           0       0.80      1.00      0.89         8\n",
      "           1       1.00      1.00      1.00        10\n",
      "           2       1.00      0.83      0.91        12\n",
      "\n",
      "    accuracy                           0.93        30\n",
      "   macro avg       0.93      0.94      0.93        30\n",
      "weighted avg       0.95      0.93      0.93        30\n",
      "\n"
     ]
    }
   ],
   "source": [
    "from sklearn.metrics import classification_report\n",
    "\n",
    "print(classification_report(results_class, y_test))"
   ]
  }
 ],
 "metadata": {
  "kernelspec": {
   "display_name": "Python 3",
   "language": "python",
   "name": "python3"
  },
  "language_info": {
   "codemirror_mode": {
    "name": "ipython",
    "version": 3
   },
   "file_extension": ".py",
   "mimetype": "text/x-python",
   "name": "python",
   "nbconvert_exporter": "python",
   "pygments_lexer": "ipython3",
   "version": "3.7.7"
  }
 },
 "nbformat": 4,
 "nbformat_minor": 4
}
