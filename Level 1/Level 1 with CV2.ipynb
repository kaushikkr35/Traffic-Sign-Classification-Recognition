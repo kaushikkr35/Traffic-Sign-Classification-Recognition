{
 "cells": [
  {
   "cell_type": "code",
   "execution_count": 1,
   "metadata": {},
   "outputs": [
    {
     "name": "stderr",
     "output_type": "stream",
     "text": [
      "Using TensorFlow backend.\n"
     ]
    }
   ],
   "source": [
    "import matplotlib as mlp\n",
    "import matplotlib.pyplot as plt\n",
    "import pandas as pd\n",
    "import numpy as np\n",
    "from sklearn.model_selection import train_test_split\n",
    "from keras.models import Sequential\n",
    "from keras.layers import Dense, Dropout, Flatten, Activation\n",
    "from keras.layers.convolutional import Conv2D, MaxPooling2D\n",
    "from keras.optimizers import Adam, rmsprop\n",
    "from keras.utils.np_utils import to_categorical\n",
    "import cv2\n",
    "import sys\n",
    "import os"
   ]
  },
  {
   "cell_type": "code",
   "execution_count": 2,
   "metadata": {},
   "outputs": [],
   "source": [
    "train_directory = \"D:/Learning/USF - Data Science Programming/Project Final/images/\"\n",
    "test_directory = \"D:/Learning/USF - Data Science Programming/Project Final/test/\"\n",
    "categories = [\"withoutsign\",\"withsign\"]"
   ]
  },
  {
   "cell_type": "code",
   "execution_count": 3,
   "metadata": {},
   "outputs": [],
   "source": [
    "from keras.preprocessing.image import ImageDataGenerator, array_to_img, img_to_array, load_img"
   ]
  },
  {
   "cell_type": "code",
   "execution_count": 4,
   "metadata": {},
   "outputs": [],
   "source": [
    "trainval_data = []\n",
    "IMG_SIZE = 64\n",
    "\n",
    "def create_trainval_data():\n",
    "    for category in categories:\n",
    "        path = os.path.join(train_directory, category)\n",
    "        class_num = categories.index(category)\n",
    "        for img in os.listdir(path):\n",
    "            img_array = cv2.imread(os.path.join(path,img), cv2.IMREAD_UNCHANGED)\n",
    "            img_array = cv2.cvtColor(img_array, cv2.COLOR_BGR2RGB)\n",
    "            new_img_array = cv2.resize(img_array, (IMG_SIZE, IMG_SIZE))\n",
    "            trainval_data.append([new_img_array, class_num])        "
   ]
  },
  {
   "cell_type": "code",
   "execution_count": 5,
   "metadata": {},
   "outputs": [],
   "source": [
    "create_trainval_data()"
   ]
  },
  {
   "cell_type": "code",
   "execution_count": 6,
   "metadata": {},
   "outputs": [],
   "source": [
    "test_data = []\n",
    "\n",
    "def create_test_data():\n",
    "    for category in categories:\n",
    "        path = os.path.join(test_directory, category)\n",
    "        class_num = categories.index(category)\n",
    "        for img in os.listdir(path):\n",
    "            img_array = cv2.imread(os.path.join(path,img), cv2.IMREAD_UNCHANGED)\n",
    "            img_array = cv2.cvtColor(img_array, cv2.COLOR_BGR2RGB)\n",
    "            new_img_array = cv2.resize(img_array, (IMG_SIZE, IMG_SIZE))\n",
    "            test_data.append([new_img_array, class_num])        "
   ]
  },
  {
   "cell_type": "code",
   "execution_count": 7,
   "metadata": {},
   "outputs": [],
   "source": [
    "create_test_data()"
   ]
  },
  {
   "cell_type": "code",
   "execution_count": 8,
   "metadata": {},
   "outputs": [],
   "source": [
    "import random\n",
    "random.seed(42)\n",
    "random.shuffle(trainval_data)"
   ]
  },
  {
   "cell_type": "code",
   "execution_count": 9,
   "metadata": {},
   "outputs": [],
   "source": [
    "X = []\n",
    "y = []\n",
    "\n",
    "X_test = []\n",
    "y_test = []"
   ]
  },
  {
   "cell_type": "code",
   "execution_count": 10,
   "metadata": {},
   "outputs": [],
   "source": [
    "for features, labels in trainval_data:\n",
    "    X.append(features)\n",
    "    y.append(labels)"
   ]
  },
  {
   "cell_type": "code",
   "execution_count": 11,
   "metadata": {},
   "outputs": [],
   "source": [
    "for features, labels in test_data:\n",
    "    X_test.append(features)\n",
    "    y_test.append(labels)"
   ]
  },
  {
   "cell_type": "code",
   "execution_count": 12,
   "metadata": {},
   "outputs": [
    {
     "data": {
      "text/plain": [
       "75"
      ]
     },
     "execution_count": 12,
     "metadata": {},
     "output_type": "execute_result"
    }
   ],
   "source": [
    "len(X_test)"
   ]
  },
  {
   "cell_type": "code",
   "execution_count": 13,
   "metadata": {},
   "outputs": [],
   "source": [
    "X = np.array(X)\n",
    "y = np.array(y)\n",
    "X_test = np.array(X_test)\n",
    "y_test = np.array(y_test)"
   ]
  },
  {
   "cell_type": "code",
   "execution_count": 14,
   "metadata": {},
   "outputs": [
    {
     "name": "stdout",
     "output_type": "stream",
     "text": [
      "(182, 64, 64, 3)\n",
      "(182,)\n",
      "(75, 64, 64, 3)\n",
      "(75,)\n"
     ]
    }
   ],
   "source": [
    "print(X.shape)\n",
    "print(y.shape)\n",
    "print(X_test.shape)\n",
    "print(y_test.shape)"
   ]
  },
  {
   "cell_type": "code",
   "execution_count": 15,
   "metadata": {},
   "outputs": [],
   "source": [
    "X_train, X_valid, y_train, y_valid = train_test_split(X, y, test_size = 0.2)"
   ]
  },
  {
   "cell_type": "code",
   "execution_count": 16,
   "metadata": {},
   "outputs": [],
   "source": [
    "train_datagen = ImageDataGenerator(rotation_range = 40,\n",
    "                            width_shift_range = 0.2,\n",
    "                            height_shift_range = 0.2,\n",
    "                            rescale = 1. / 255,\n",
    "                            shear_range = 0.2,\n",
    "                            zoom_range = 0.2)\n",
    "\n",
    "validation_datagen = ImageDataGenerator(rescale = 1. / 255)\n",
    "\n",
    "test_datagen = ImageDataGenerator(rescale = 1. / 255)"
   ]
  },
  {
   "cell_type": "code",
   "execution_count": 17,
   "metadata": {},
   "outputs": [],
   "source": [
    "train_datagen.fit(X_train)\n",
    "validation_datagen.fit(X_valid)"
   ]
  },
  {
   "cell_type": "code",
   "execution_count": 18,
   "metadata": {},
   "outputs": [],
   "source": [
    "test_datagen.fit(X_test)"
   ]
  },
  {
   "cell_type": "code",
   "execution_count": 19,
   "metadata": {},
   "outputs": [],
   "source": [
    "y_train_categorical = to_categorical(y_train, 2)\n",
    "y_valid_categorical = to_categorical(y_valid, 2)\n",
    "y_test_categorical = to_categorical(y_test, 2)"
   ]
  },
  {
   "cell_type": "code",
   "execution_count": 20,
   "metadata": {},
   "outputs": [
    {
     "data": {
      "text/plain": [
       "array([1, 0, 0, 0, 0, 0, 0, 1, 0, 0, 0, 1, 1, 0, 0, 1, 0, 0, 0, 1, 0, 1,\n",
       "       0, 1, 1, 1, 0, 1, 0, 0, 1, 0, 1, 0, 1, 1, 1, 0, 1, 1, 1, 0, 0, 0,\n",
       "       1, 1, 0, 0, 1, 1, 0, 1, 0, 0, 1, 1, 0, 0, 1, 1, 1, 1, 0, 0, 0, 1,\n",
       "       1, 1, 1, 1, 0, 1, 1, 1, 1, 1, 1, 0, 0, 0, 0, 1, 0, 0, 1, 1, 0, 0,\n",
       "       1, 0, 0, 0, 0, 0, 1, 1, 0, 1, 0, 0, 0, 0, 0, 0, 0, 0, 1, 1, 1, 1,\n",
       "       0, 1, 1, 1, 0, 0, 0, 0, 0, 1, 0, 0, 0, 1, 1, 1, 0, 0, 1, 1, 0, 1,\n",
       "       1, 1, 1, 0, 1, 1, 0, 0, 0, 0, 1, 0, 1])"
      ]
     },
     "execution_count": 20,
     "metadata": {},
     "output_type": "execute_result"
    }
   ],
   "source": [
    "y_train"
   ]
  },
  {
   "cell_type": "code",
   "execution_count": 21,
   "metadata": {},
   "outputs": [],
   "source": [
    "channels = 3\n",
    "train_img_size = len(X_train)\n",
    "batch_size = 32\n",
    "validation_img_size = len(X_valid)"
   ]
  },
  {
   "cell_type": "code",
   "execution_count": 22,
   "metadata": {},
   "outputs": [
    {
     "name": "stdout",
     "output_type": "stream",
     "text": [
      "Model: \"sequential_25\"\n",
      "_________________________________________________________________\n",
      "Layer (type)                 Output Shape              Param #   \n",
      "=================================================================\n",
      "conv2d_49 (Conv2D)           (None, 62, 62, 32)        896       \n",
      "_________________________________________________________________\n",
      "max_pooling2d_49 (MaxPooling (None, 31, 31, 32)        0         \n",
      "_________________________________________________________________\n",
      "conv2d_50 (Conv2D)           (None, 29, 29, 64)        18496     \n",
      "_________________________________________________________________\n",
      "max_pooling2d_50 (MaxPooling (None, 14, 14, 64)        0         \n",
      "_________________________________________________________________\n",
      "flatten_25 (Flatten)         (None, 12544)             0         \n",
      "_________________________________________________________________\n",
      "dense_49 (Dense)             (None, 64)                802880    \n",
      "_________________________________________________________________\n",
      "activation_49 (Activation)   (None, 64)                0         \n",
      "_________________________________________________________________\n",
      "dropout_25 (Dropout)         (None, 64)                0         \n",
      "_________________________________________________________________\n",
      "dense_50 (Dense)             (None, 2)                 130       \n",
      "_________________________________________________________________\n",
      "activation_50 (Activation)   (None, 2)                 0         \n",
      "=================================================================\n",
      "Total params: 822,402\n",
      "Trainable params: 822,402\n",
      "Non-trainable params: 0\n",
      "_________________________________________________________________\n"
     ]
    }
   ],
   "source": [
    "from keras.models import load_model\n",
    "\n",
    "model = load_model('decentmodel.h5')\n",
    "model.summary()\n",
    "\n",
    "# model = Sequential()\n",
    "\n",
    "# model.add(Conv2D(32, (3,3), input_shape = (IMG_SIZE, IMG_SIZE, channels), activation = 'relu', data_format = 'channels_last'))\n",
    "# model.add(MaxPooling2D(pool_size=(2,2), strides=2))\n",
    "\n",
    "# model.add(Conv2D(64, (3,3), input_shape = (IMG_SIZE, IMG_SIZE, channels), activation = 'relu'))\n",
    "# model.add(MaxPooling2D(pool_size=(2,2), strides=2))\n",
    "\n",
    "# model.add(Flatten())\n",
    "# model.add(Dense(64))\n",
    "# model.add(Activation('relu'))\n",
    "# model.add(Dropout(0.375))\n",
    "# model.add(Dense(2))\n",
    "# model.add(Activation('sigmoid'))\n",
    "          \n",
    "# model.compile(loss = 'binary_crossentropy', optimizer = 'Adam', metrics = ['accuracy'])\n",
    "# model.summary()"
   ]
  },
  {
   "cell_type": "code",
   "execution_count": 40,
   "metadata": {
    "scrolled": true
   },
   "outputs": [
    {
     "name": "stdout",
     "output_type": "stream",
     "text": [
      "Epoch 1/50\n",
      "4/4 [==============================] - 1s 291ms/step - loss: 0.2195 - accuracy: 0.9646 - val_loss: 0.0070 - val_accuracy: 1.0000\n",
      "Epoch 2/50\n",
      "4/4 [==============================] - 0s 116ms/step - loss: 0.1297 - accuracy: 0.9735 - val_loss: 0.0030 - val_accuracy: 1.0000\n",
      "Epoch 3/50\n",
      "4/4 [==============================] - 1s 142ms/step - loss: 0.0898 - accuracy: 0.9766 - val_loss: 0.0140 - val_accuracy: 1.0000\n",
      "Epoch 4/50\n",
      "4/4 [==============================] - 0s 117ms/step - loss: 0.0910 - accuracy: 0.9690 - val_loss: 0.0048 - val_accuracy: 1.0000\n",
      "Epoch 5/50\n",
      "4/4 [==============================] - 1s 132ms/step - loss: 0.1115 - accuracy: 0.9558 - val_loss: 0.0427 - val_accuracy: 1.0000\n",
      "Epoch 6/50\n",
      "4/4 [==============================] - 0s 124ms/step - loss: 0.1497 - accuracy: 0.9558 - val_loss: 9.8856e-04 - val_accuracy: 1.0000\n",
      "Epoch 7/50\n",
      "4/4 [==============================] - 0s 125ms/step - loss: 0.1269 - accuracy: 0.9469 - val_loss: 0.0187 - val_accuracy: 1.0000\n",
      "Epoch 8/50\n",
      "4/4 [==============================] - 1s 135ms/step - loss: 0.0760 - accuracy: 0.9883 - val_loss: 0.0122 - val_accuracy: 1.0000\n",
      "Epoch 9/50\n",
      "4/4 [==============================] - 1s 129ms/step - loss: 0.1681 - accuracy: 0.9513 - val_loss: 0.0162 - val_accuracy: 1.0000\n",
      "Epoch 10/50\n",
      "4/4 [==============================] - 0s 113ms/step - loss: 0.0933 - accuracy: 0.9735 - val_loss: 0.0013 - val_accuracy: 1.0000\n",
      "Epoch 11/50\n",
      "4/4 [==============================] - 1s 132ms/step - loss: 0.0786 - accuracy: 0.9735 - val_loss: 0.0109 - val_accuracy: 1.0000\n",
      "Epoch 12/50\n",
      "4/4 [==============================] - 0s 125ms/step - loss: 0.1000 - accuracy: 0.9646 - val_loss: 0.0054 - val_accuracy: 1.0000\n",
      "Epoch 13/50\n",
      "4/4 [==============================] - 1s 134ms/step - loss: 0.0477 - accuracy: 0.9912 - val_loss: 0.0272 - val_accuracy: 0.9844\n",
      "Epoch 14/50\n",
      "4/4 [==============================] - 1s 148ms/step - loss: 0.1826 - accuracy: 0.9531 - val_loss: 0.0238 - val_accuracy: 1.0000\n",
      "Epoch 15/50\n",
      "4/4 [==============================] - 0s 120ms/step - loss: 0.0892 - accuracy: 0.9690 - val_loss: 0.0083 - val_accuracy: 1.0000\n",
      "Epoch 16/50\n",
      "4/4 [==============================] - 1s 126ms/step - loss: 0.0765 - accuracy: 0.9690 - val_loss: 0.0011 - val_accuracy: 1.0000\n",
      "Epoch 17/50\n",
      "4/4 [==============================] - 1s 135ms/step - loss: 0.0502 - accuracy: 0.9823 - val_loss: 0.0059 - val_accuracy: 1.0000\n",
      "Epoch 18/50\n",
      "4/4 [==============================] - 0s 123ms/step - loss: 0.0694 - accuracy: 0.9690 - val_loss: 0.0032 - val_accuracy: 1.0000\n",
      "Epoch 19/50\n",
      "4/4 [==============================] - 0s 122ms/step - loss: 0.1190 - accuracy: 0.9735 - val_loss: 0.0052 - val_accuracy: 1.0000\n",
      "Epoch 20/50\n",
      "4/4 [==============================] - 1s 136ms/step - loss: 0.0458 - accuracy: 0.9844 - val_loss: 9.3550e-05 - val_accuracy: 1.0000\n",
      "Epoch 21/50\n",
      "4/4 [==============================] - 1s 131ms/step - loss: 0.0801 - accuracy: 0.9646 - val_loss: 0.0079 - val_accuracy: 1.0000\n",
      "Epoch 22/50\n",
      "4/4 [==============================] - 1s 142ms/step - loss: 0.0741 - accuracy: 0.9883 - val_loss: 0.0672 - val_accuracy: 1.0000\n",
      "Epoch 23/50\n",
      "4/4 [==============================] - 1s 136ms/step - loss: 0.0649 - accuracy: 0.9779 - val_loss: 0.0062 - val_accuracy: 1.0000\n",
      "Epoch 24/50\n",
      "4/4 [==============================] - 1s 128ms/step - loss: 0.0566 - accuracy: 0.9779 - val_loss: 0.0033 - val_accuracy: 1.0000\n",
      "Epoch 25/50\n",
      "4/4 [==============================] - 0s 119ms/step - loss: 0.0342 - accuracy: 0.9912 - val_loss: 0.0228 - val_accuracy: 1.0000\n",
      "Epoch 26/50\n",
      "4/4 [==============================] - 0s 119ms/step - loss: 0.0621 - accuracy: 0.9690 - val_loss: 5.5913e-04 - val_accuracy: 1.0000\n",
      "Epoch 27/50\n",
      "4/4 [==============================] - 0s 124ms/step - loss: 0.0508 - accuracy: 0.9867 - val_loss: 0.0230 - val_accuracy: 1.0000\n",
      "Epoch 28/50\n",
      "4/4 [==============================] - 0s 117ms/step - loss: 0.0790 - accuracy: 0.9602 - val_loss: 6.8029e-04 - val_accuracy: 1.0000\n",
      "Epoch 29/50\n",
      "4/4 [==============================] - 0s 121ms/step - loss: 0.0987 - accuracy: 0.9646 - val_loss: 0.0131 - val_accuracy: 1.0000\n",
      "Epoch 30/50\n",
      "4/4 [==============================] - 1s 127ms/step - loss: 0.0485 - accuracy: 0.9805 - val_loss: 0.0398 - val_accuracy: 1.0000\n",
      "Epoch 31/50\n",
      "4/4 [==============================] - 1s 136ms/step - loss: 0.0519 - accuracy: 0.9867 - val_loss: 0.0069 - val_accuracy: 1.0000\n",
      "Epoch 32/50\n",
      "4/4 [==============================] - 1s 152ms/step - loss: 0.0743 - accuracy: 0.9805 - val_loss: 0.0136 - val_accuracy: 1.0000\n",
      "Epoch 33/50\n",
      "4/4 [==============================] - 1s 132ms/step - loss: 0.0813 - accuracy: 0.9602 - val_loss: 0.0080 - val_accuracy: 1.0000\n",
      "Epoch 34/50\n",
      "4/4 [==============================] - 1s 133ms/step - loss: 0.0373 - accuracy: 0.9912 - val_loss: 3.4673e-04 - val_accuracy: 1.0000\n",
      "Epoch 35/50\n",
      "4/4 [==============================] - 1s 130ms/step - loss: 0.0468 - accuracy: 0.9867 - val_loss: 0.0015 - val_accuracy: 1.0000\n",
      "Epoch 36/50\n",
      "4/4 [==============================] - 0s 123ms/step - loss: 0.0338 - accuracy: 0.9844 - val_loss: 0.0261 - val_accuracy: 1.0000\n",
      "Epoch 37/50\n",
      "4/4 [==============================] - 0s 108ms/step - loss: 0.0623 - accuracy: 0.9694 - val_loss: 0.0023 - val_accuracy: 1.0000\n",
      "Epoch 38/50\n",
      "4/4 [==============================] - 0s 123ms/step - loss: 0.0582 - accuracy: 0.9823 - val_loss: 0.0556 - val_accuracy: 1.0000\n",
      "Epoch 39/50\n",
      "4/4 [==============================] - 1s 144ms/step - loss: 0.0711 - accuracy: 0.9688 - val_loss: 0.0820 - val_accuracy: 0.9531\n",
      "Epoch 40/50\n",
      "4/4 [==============================] - 0s 115ms/step - loss: 0.0865 - accuracy: 0.9602 - val_loss: 2.1925e-05 - val_accuracy: 1.0000\n",
      "Epoch 41/50\n",
      "4/4 [==============================] - 1s 125ms/step - loss: 0.0989 - accuracy: 0.9558 - val_loss: 0.0120 - val_accuracy: 1.0000\n",
      "Epoch 42/50\n",
      "4/4 [==============================] - 0s 115ms/step - loss: 0.1525 - accuracy: 0.9646 - val_loss: 0.0528 - val_accuracy: 1.0000\n",
      "Epoch 43/50\n",
      "4/4 [==============================] - 1s 136ms/step - loss: 0.0604 - accuracy: 0.9766 - val_loss: 0.0327 - val_accuracy: 1.0000\n",
      "Epoch 44/50\n",
      "4/4 [==============================] - 0s 125ms/step - loss: 0.0661 - accuracy: 0.9735 - val_loss: 0.0016 - val_accuracy: 1.0000\n",
      "Epoch 45/50\n",
      "4/4 [==============================] - 0s 116ms/step - loss: 0.0603 - accuracy: 0.9912 - val_loss: 0.0122 - val_accuracy: 1.0000\n",
      "Epoch 46/50\n",
      "4/4 [==============================] - 0s 119ms/step - loss: 0.0367 - accuracy: 1.0000 - val_loss: 0.0016 - val_accuracy: 1.0000\n",
      "Epoch 47/50\n",
      "4/4 [==============================] - 1s 128ms/step - loss: 0.0672 - accuracy: 0.9779 - val_loss: 0.0046 - val_accuracy: 1.0000\n",
      "Epoch 48/50\n",
      "4/4 [==============================] - 1s 134ms/step - loss: 0.0473 - accuracy: 0.9844 - val_loss: 3.0552e-04 - val_accuracy: 1.0000\n",
      "Epoch 49/50\n",
      "4/4 [==============================] - 1s 141ms/step - loss: 0.0710 - accuracy: 0.9823 - val_loss: 0.0109 - val_accuracy: 1.0000\n",
      "Epoch 50/50\n",
      "4/4 [==============================] - 0s 108ms/step - loss: 0.0791 - accuracy: 0.9735 - val_loss: 0.0012 - val_accuracy: 1.0000\n"
     ]
    }
   ],
   "source": [
    "# history = model.fit_generator(train_datagen.flow(X_train, y_train_categorical),\n",
    "#                               steps_per_epoch=train_img_size//batch_size,\n",
    "#                               epochs=50,\n",
    "#                               validation_data=validation_datagen.flow(X_valid, y_valid_categorical),\n",
    "#                               validation_steps=validation_img_size//batch_size)"
   ]
  },
  {
   "cell_type": "code",
   "execution_count": 42,
   "metadata": {},
   "outputs": [
    {
     "ename": "AttributeError",
     "evalue": "'Sequential' object has no attribute 'history'",
     "output_type": "error",
     "traceback": [
      "\u001b[1;31m---------------------------------------------------------------------------\u001b[0m",
      "\u001b[1;31mAttributeError\u001b[0m                            Traceback (most recent call last)",
      "\u001b[1;32m<ipython-input-42-9cd6fb65f829>\u001b[0m in \u001b[0;36m<module>\u001b[1;34m\u001b[0m\n\u001b[1;32m----> 1\u001b[1;33m \u001b[0mplt\u001b[0m\u001b[1;33m.\u001b[0m\u001b[0mplot\u001b[0m\u001b[1;33m(\u001b[0m\u001b[0mmodel\u001b[0m\u001b[1;33m.\u001b[0m\u001b[0mhistory\u001b[0m\u001b[1;33m[\u001b[0m\u001b[1;34m'accuracy'\u001b[0m\u001b[1;33m]\u001b[0m\u001b[1;33m)\u001b[0m\u001b[1;33m\u001b[0m\u001b[1;33m\u001b[0m\u001b[0m\n\u001b[0m\u001b[0;32m      2\u001b[0m \u001b[0mplt\u001b[0m\u001b[1;33m.\u001b[0m\u001b[0mplot\u001b[0m\u001b[1;33m(\u001b[0m\u001b[0mmodel\u001b[0m\u001b[1;33m.\u001b[0m\u001b[0mhistory\u001b[0m\u001b[1;33m[\u001b[0m\u001b[1;34m'val_accuracy'\u001b[0m\u001b[1;33m]\u001b[0m\u001b[1;33m)\u001b[0m\u001b[1;33m\u001b[0m\u001b[1;33m\u001b[0m\u001b[0m\n\u001b[0;32m      3\u001b[0m \u001b[0mplt\u001b[0m\u001b[1;33m.\u001b[0m\u001b[0mtitle\u001b[0m\u001b[1;33m(\u001b[0m\u001b[1;34m'Model accuracy'\u001b[0m\u001b[1;33m)\u001b[0m\u001b[1;33m\u001b[0m\u001b[1;33m\u001b[0m\u001b[0m\n\u001b[0;32m      4\u001b[0m \u001b[0mplt\u001b[0m\u001b[1;33m.\u001b[0m\u001b[0mylabel\u001b[0m\u001b[1;33m(\u001b[0m\u001b[1;34m'Accuracy'\u001b[0m\u001b[1;33m)\u001b[0m\u001b[1;33m\u001b[0m\u001b[1;33m\u001b[0m\u001b[0m\n\u001b[0;32m      5\u001b[0m \u001b[0mplt\u001b[0m\u001b[1;33m.\u001b[0m\u001b[0mxlabel\u001b[0m\u001b[1;33m(\u001b[0m\u001b[1;34m'Epoch'\u001b[0m\u001b[1;33m)\u001b[0m\u001b[1;33m\u001b[0m\u001b[1;33m\u001b[0m\u001b[0m\n",
      "\u001b[1;31mAttributeError\u001b[0m: 'Sequential' object has no attribute 'history'"
     ]
    }
   ],
   "source": [
    "# plt.plot(model.history['accuracy'])\n",
    "# plt.plot(model.history['val_accuracy'])\n",
    "# plt.title('Model accuracy')\n",
    "# plt.ylabel('Accuracy')\n",
    "# plt.xlabel('Epoch')\n",
    "# plt.legend(['Train', 'Validation'], loc='lower right')\n",
    "# plt.show()"
   ]
  },
  {
   "cell_type": "code",
   "execution_count": 220,
   "metadata": {},
   "outputs": [],
   "source": [
    "model.save('decentmodel.h5')"
   ]
  },
  {
   "cell_type": "code",
   "execution_count": 23,
   "metadata": {},
   "outputs": [
    {
     "name": "stdout",
     "output_type": "stream",
     "text": [
      "['loss', 'accuracy']\n"
     ]
    }
   ],
   "source": [
    "print(model.metrics_names)"
   ]
  },
  {
   "cell_type": "code",
   "execution_count": 25,
   "metadata": {},
   "outputs": [
    {
     "name": "stdout",
     "output_type": "stream",
     "text": [
      "75/75 [==============================] - 0s 4ms/step\n"
     ]
    }
   ],
   "source": [
    "score = model.evaluate(X_test, y_test_categorical)"
   ]
  },
  {
   "cell_type": "code",
   "execution_count": 26,
   "metadata": {
    "scrolled": false
   },
   "outputs": [
    {
     "data": {
      "text/plain": [
       "[23.891287434895833, 0.9599999785423279]"
      ]
     },
     "execution_count": 26,
     "metadata": {},
     "output_type": "execute_result"
    }
   ],
   "source": [
    "score"
   ]
  },
  {
   "cell_type": "code",
   "execution_count": 27,
   "metadata": {},
   "outputs": [
    {
     "name": "stdout",
     "output_type": "stream",
     "text": [
      "Images without sign are labeled as class  0\n",
      "Images with sign are labeled as class  1\n"
     ]
    }
   ],
   "source": [
    "print('Images without sign are labeled as class ', categories.index('withoutsign'))\n",
    "print('Images with sign are labeled as class ', categories.index('withsign'))"
   ]
  },
  {
   "cell_type": "code",
   "execution_count": 39,
   "metadata": {},
   "outputs": [
    {
     "name": "stdout",
     "output_type": "stream",
     "text": [
      "The random image label is  8\n"
     ]
    },
    {
     "data": {
      "image/png": "[encoded data removed]",
      "text/plain": [
       "<Figure size 432x288 with 1 Axes>"
      ]
     },
     "metadata": {
      "needs_background": "light"
     },
     "output_type": "display_data"
    },
    {
     "name": "stdout",
     "output_type": "stream",
     "text": [
      "Predicted Class [0]\n"
     ]
    }
   ],
   "source": [
    "random_img = random.randint(0,74)\n",
    "print(\"The random image label is \", random_img)\n",
    "plt.imshow(X_test[random_img])\n",
    "plt.show()\n",
    "print('Predicted Class ' + str\n",
    "         (model.predict_classes(X_test[random_img].reshape(1,64,64,3))))"
   ]
  },
  {
   "cell_type": "code",
   "execution_count": 29,
   "metadata": {},
   "outputs": [],
   "source": [
    "results = model.predict(X_test)"
   ]
  },
  {
   "cell_type": "code",
   "execution_count": 32,
   "metadata": {},
   "outputs": [
    {
     "data": {
      "text/plain": [
       "array([[31,  0],\n",
       "       [ 3, 41]], dtype=int64)"
      ]
     },
     "execution_count": 32,
     "metadata": {},
     "output_type": "execute_result"
    }
   ],
   "source": [
    "from sklearn.metrics import confusion_matrix\n",
    "\n",
    "confusion_matrix(results_class, y_test)"
   ]
  },
  {
   "cell_type": "code",
   "execution_count": 31,
   "metadata": {},
   "outputs": [],
   "source": [
    "results_class = np.argmax(results, axis=1, out=None)"
   ]
  },
  {
   "cell_type": "code",
   "execution_count": 33,
   "metadata": {},
   "outputs": [
    {
     "name": "stdout",
     "output_type": "stream",
     "text": [
      "              precision    recall  f1-score   support\n",
      "\n",
      "           0       0.91      1.00      0.95        31\n",
      "           1       1.00      0.93      0.96        44\n",
      "\n",
      "    accuracy                           0.96        75\n",
      "   macro avg       0.96      0.97      0.96        75\n",
      "weighted avg       0.96      0.96      0.96        75\n",
      "\n"
     ]
    }
   ],
   "source": [
    "from sklearn.metrics import classification_report\n",
    "\n",
    "print(classification_report(results_class, y_test))"
   ]
  }
 ],
 "metadata": {
  "kernelspec": {
   "display_name": "Python 3",
   "language": "python",
   "name": "python3"
  },
  "language_info": {
   "codemirror_mode": {
    "name": "ipython",
    "version": 3
   },
   "file_extension": ".py",
   "mimetype": "text/x-python",
   "name": "python",
   "nbconvert_exporter": "python",
   "pygments_lexer": "ipython3",
   "version": "3.7.6"
  }
 },
 "nbformat": 4,
 "nbformat_minor": 4
}
